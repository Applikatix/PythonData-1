{
 "cells": [
  {
   "cell_type": "markdown",
   "metadata": {},
   "source": [
    "# Noter om analyse af orienteringsløbefil"
   ]
  },
  {
   "attachments": {},
   "cell_type": "markdown",
   "metadata": {},
   "source": [
    "## Del 1 : Tempo i tre trin\n",
    "\n",
    "En slags vejledning i hvordan man kommer i gang med at gøre noget ved dataerne fra løbefilerne."
   ]
  },
  {
   "attachments": {},
   "cell_type": "markdown",
   "metadata": {},
   "source": [
    "Først nogle funktioner jeg har gaflet. \n",
    "Begge dele er fra nogle obscure websites. Desværre er gpxpy stort set ikke dokumenteret, Der er eller mage gode til i librariet.\n",
    "\n",
    "Funktionen `read_gpx_file()` er fra <https://www.programcreek.com/python/example/122591/gpxpy.parse> Example 2\n",
    "Exception klassen `TrackException(Exception)` fandt jeg langt nede i et git repo, <https://github.com/acsicuib/YAFS/blob/master/src/trackanimation/utils.py>"
   ]
  },
  {
   "cell_type": "code",
   "execution_count": 2,
   "metadata": {},
   "outputs": [],
   "source": [
    "import gpxpy\n",
    "import os\n",
    "\n",
    "# ---------------->8\n",
    "#skraldet fra https://www.programcreek.com/python/example/122591/gpxpy.parse Example 2\n",
    "\n",
    "def read_gpx_file(filename):\n",
    "    try:\n",
    "        with open(filename, \"r\") as f:\n",
    "            points_list = []\n",
    "            prev_point = None\n",
    "            head, tail = os.path.split(filename)\n",
    "            code_route = tail.replace(\".gpx\", \"\")\n",
    "            try:\n",
    "                gpx = gpxpy.parse(f)\n",
    "                for point in gpx.walk(only_points=True):\n",
    "                    speed = point.speed_between(prev_point)\n",
    "                    if speed is None:\n",
    "                        speed = 0\n",
    "\n",
    "                    time_difference = point.time_difference(prev_point)\n",
    "                    if time_difference is None:\n",
    "                        time_difference = 0\n",
    "\n",
    "                    distance = point.distance_3d(prev_point)\n",
    "                    if not distance:\n",
    "                        distance = point.distance_2d(prev_point)\n",
    "                    if distance is None:\n",
    "                        distance = 0\n",
    "\n",
    "                    points_list.append([code_route, point.latitude, point.longitude, point.elevation,\n",
    "                                                point.time, speed, time_difference, distance])\n",
    "\n",
    "                    prev_point = point\n",
    "            except Exception as e:\n",
    "                raise TrackException('GPX file \"' + filename + '\" malformed', e)\n",
    "    except FileNotFoundError as e:\n",
    "        raise TrackException('GPX file \"' + filename + '\" not found', e) \n",
    "\n",
    "    return points_list\n",
    "# 8<-------\n",
    "\n",
    "# 8<----  https://github.com/acsicuib/YAFS/blob/master/src/trackanimation/utils.py\n",
    "class TrackException(Exception):\n",
    "    \"\"\"\n",
    "    Generic exception for TrackAnimation\n",
    "    \"\"\"\n",
    "\n",
    "    def __init__(self, msg, original_exception):\n",
    "        super(TrackException, self).__init__(msg + (\": %s\" % original_exception))\n",
    "        self.original_exception = original_exception\n",
    "# ----->8\n"
   ]
  },
  {
   "attachments": {},
   "cell_type": "markdown",
   "metadata": {},
   "source": [
    "## Indlæsning og videre beregning af gpxpy fil\n",
    "\n",
    "Alle punkterne som returneres af `read_gpx_file()` har fåe tilføjet `speed, time_difference, distance` på index `[5]`, `[6]` og `[7]` som beregnes ud fra tidsforskellen, og distancen mellem hvert punkt og det forrige punkt.  \n",
    "Distancen beregnes med `gpxpy`'s  `point.distance_3d()`, som bruger en elepsoid algoritme. Måske tager den også højdefoskel mellem punkterne med?\n"
   ]
  },
  {
   "cell_type": "code",
   "execution_count": 3,
   "metadata": {},
   "outputs": [
    {
     "name": "stdout",
     "output_type": "stream",
     "text": [
      "1131\n",
      "points 600-609:\n",
      "[speed, time_difference, distance]\n",
      "[0.759343045464342, 5.0, 3.7967152273217097]\n",
      "[0.6506223979435596, 3.0, 1.9518671938306786]\n",
      "[0.8284450436492407, 5.0, 4.142225218246203]\n",
      "[0.8889795026959079, 4.0, 3.5559180107836315]\n",
      "[0.5862917088767963, 2.0, 1.1725834177535925]\n",
      "[0.4494878013319975, 1.0, 0.4494878013319975]\n",
      "[0.9964274270515685, 3.0, 2.9892822811547055]\n",
      "[1.0610857487983982, 1.0, 1.0610857487983982]\n",
      "[0.9840859616067157, 2.0, 1.9681719232134314]\n",
      "[0.8924549423791625, 4.0, 3.56981976951665]\n"
     ]
    }
   ],
   "source": [
    "filepath = r\".\"\n",
    "filename = r\"\\data\\activity_7403521010.gpx\"\n",
    "points = read_gpx_file(filepath + filename)\n",
    "\n",
    "print(len(points))\n",
    "# print(points[0])\n",
    "# print(points[1])\n",
    "\n",
    "# print(points[100])\n",
    "\n",
    "print(\"points 600-609:\\n[speed, time_difference, distance]\")\n",
    "print( *[p[5:8] for p in points[600:610]], sep='\\n')"
   ]
  },
  {
   "attachments": {},
   "cell_type": "markdown",
   "metadata": {},
   "source": [
    "## Sum af del-stykker i de tre hastigheder\n",
    "\n",
    "og så den gennerell sum af stykker i de tre hastigheder\n",
    "\n",
    "### omregning ml km/m og m/s\n",
    "\n",
    "<https://www.aqua-calc.com/convert/speed/minute-per-kilometer-to-meter-per-second>\n",
    "\n",
    "\n",
    "Kan _tempo_ i min/km, omregnes til _hastighed_ i m/s, hvor $ p $ er pace, dvs. tempoet i $ \\frac{min}{km} $:\n",
    "\n",
    "$$\n",
    "    p \\cdot \\tfrac{min}{km}  \n",
    "\n",
    "    = p \\frac{60 \\cdot s}{1000 \\cdot m} \n",
    "    = \\frac{ \\frac{1000 \\cdot m}{60 \\cdot s} }{p} \n",
    "    = \\frac{ \\frac{1000}{60} }{p} \\cdot \\tfrac{m}{s}\n",
    "  \n",
    "    = \\frac{16.667}{p} \\cdot \\tfrac{m}{s}\n",
    "$$\n",
    "\n",
    "Altså bliver de to grænseværdier:\n",
    "\n",
    "- løb: $ 13 \\tfrac{min}{km} = 1,282051 \\cdot \\tfrac{m}{s} $\n",
    "- gang: $ 13 \\tfrac{min}{km} = 0,33333 \\cdot \\tfrac{m}{s} $\n",
    "\n",
    "Vi kan også implementere funktionen `pace2velocity()`:"
   ]
  },
  {
   "cell_type": "code",
   "execution_count": 4,
   "metadata": {},
   "outputs": [
    {
     "name": "stdout",
     "output_type": "stream",
     "text": [
      "13 min/km = 1.282051 m/s\n",
      "50 min/km = 0.333333 m/s\n"
     ]
    }
   ],
   "source": [
    "def pace2velocity(pace):\n",
    "    \"\"\" Converts pace with unit minutes/km, to velocity, with unit m/s (meters pr. second)\"\"\"\n",
    "    return (1000/60)/pace\n",
    "\n",
    "print(f\"13 min/km = {pace2velocity(13) :.6f} m/s\")\n",
    "print(f\"50 min/km = {pace2velocity(50) :.6f} m/s\")"
   ]
  },
  {
   "attachments": {},
   "cell_type": "markdown",
   "metadata": {},
   "source": [
    "Du skal gennmløbe listen point, f.eks. med et `for`-loop. I loopet, kan du lægge til variblerne herunder for at akkumulere hvor meget om hvert stykke vej mellem et punkt og det forrige, er foregået i løb eller gang, eller har være i nær-stilstand. Aka  _run_, _walk_ og _still_.  For at afgøre hvilken af af bevægelsestyperene der er tale om kan du lave en if-elif-else blok.\n",
    "\n",
    "Husk at i hvert punkt i listen `points` er hastigheden (i m/s) i index 5 (`point[5]`), tiden i index 6 og distancen i index 7."
   ]
  },
  {
   "cell_type": "code",
   "execution_count": 5,
   "metadata": {},
   "outputs": [],
   "source": [
    "dist_walk  = 0\n",
    "dist_run   = 0\n",
    "dist_still = 0\n",
    "dist_all   = 0\n",
    "time_walk  = 0\n",
    "time_run   = 0\n",
    "time_still = 0\n",
    "time_all   = 0\n",
    "\n",
    "# her skal være en konstruktion der gennemløber listen `points`..."
   ]
  },
  {
   "attachments": {},
   "cell_type": "markdown",
   "metadata": {},
   "source": [
    "Så er det bare at udskrive pænt:"
   ]
  },
  {
   "cell_type": "code",
   "execution_count": null,
   "metadata": {},
   "outputs": [],
   "source": [
    "print(f\"                    meters, secunds,   % (of time)\")\n",
    "print(f\"Acumulated walk,  {dist_walk  :>8.2f},   {time_walk  :5.0f}, {time_walk/time_all  :6.1%} \")\n",
    "print(f\"Acumulated run,   {dist_run   :>8.2f},   {time_run   :5.0f}, {time_run/time_all   :6.1%} \")\n",
    "print(f\"Acumulated still, {dist_still :>8.2f},   {time_still :5.0f}, {time_still/time_all :6.1%} \")\n",
    "print(f\"Acumulated all,   {dist_all   :>8.2f},   {time_all   :5.0f}, {time_all/time_all   :6.1%} \")\n",
    "\n",
    "print(f\"Average speed is {dist_all/time_all :2.2f}m/s {dist_all/time_all * 3.6 :2.2f}km/t, {dist_all/time_all /0.06 :2.2f}min/km \")\n"
   ]
  }
 ],
 "metadata": {
  "kernelspec": {
   "display_name": "Python 3",
   "language": "python",
   "name": "python3"
  },
  "language_info": {
   "codemirror_mode": {
    "name": "ipython",
    "version": 3
   },
   "file_extension": ".py",
   "mimetype": "text/x-python",
   "name": "python",
   "nbconvert_exporter": "python",
   "pygments_lexer": "ipython3",
   "version": "3.11.1"
  },
  "orig_nbformat": 4,
  "vscode": {
   "interpreter": {
    "hash": "5238573367df39f7286bb46f9ff5f08f63a01a80960060ce41e3c79b190280fa"
   }
  }
 },
 "nbformat": 4,
 "nbformat_minor": 2
}
